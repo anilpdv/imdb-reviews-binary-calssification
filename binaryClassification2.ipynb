{
  "nbformat": 4,
  "nbformat_minor": 0,
  "metadata": {
    "colab": {
      "name": "binaryClassification2.ipynb",
      "version": "0.3.2",
      "provenance": [],
      "collapsed_sections": [],
      "include_colab_link": true
    },
    "kernelspec": {
      "name": "python3",
      "display_name": "Python 3"
    },
    "accelerator": "GPU"
  },
  "cells": [
    {
      "cell_type": "markdown",
      "metadata": {
        "id": "view-in-github",
        "colab_type": "text"
      },
      "source": [
        "[View in Colaboratory](https://colab.research.google.com/github/anilpdv/imdb-reviews-binary-calssification/blob/master/binaryClassification2.ipynb)"
      ]
    },
    {
      "metadata": {
        "id": "QR0chAOZ8AAR",
        "colab_type": "code",
        "colab": {}
      },
      "cell_type": "code",
      "source": [
        "#loading the libraries\n",
        "import pandas as pd\n",
        "import numpy as np\n",
        "import matplotlib.pyplot as plt\n",
        "import seaborn as sns\n",
        "\n",
        "#loading deep learing libraries\n",
        "from keras.models import Sequential\n",
        "from keras.layers import Dense\n",
        "import tensorflow as tf\n",
        "from keras.datasets import imdb"
      ],
      "execution_count": 0,
      "outputs": []
    },
    {
      "metadata": {
        "id": "K5ZmyyF-86O5",
        "colab_type": "text"
      },
      "cell_type": "markdown",
      "source": [
        "# project imdb\n"
      ]
    },
    {
      "metadata": {
        "id": "mgWag3Yg8wlx",
        "colab_type": "code",
        "colab": {
          "base_uri": "https://localhost:8080/",
          "height": 51
        },
        "outputId": "4216d6d7-8255-46b8-cc73-6e78be711732"
      },
      "cell_type": "code",
      "source": [
        "\n",
        "#loading the dataset\n",
        "(train_data,train_labels),(test_data,test_labels) = imdb.load_data(num_words=10000)"
      ],
      "execution_count": 3,
      "outputs": [
        {
          "output_type": "stream",
          "text": [
            "Downloading data from https://s3.amazonaws.com/text-datasets/imdb.npz\n",
            "17465344/17464789 [==============================] - 4s 0us/step\n"
          ],
          "name": "stdout"
        }
      ]
    },
    {
      "metadata": {
        "id": "VJTqFhxi9dZL",
        "colab_type": "code",
        "colab": {
          "base_uri": "https://localhost:8080/",
          "height": 34
        },
        "outputId": "c864323d-77cf-46bf-dbe2-0b73cf6f5919"
      },
      "cell_type": "code",
      "source": [
        "#shape of the data\n",
        "train_data.shape"
      ],
      "execution_count": 4,
      "outputs": [
        {
          "output_type": "execute_result",
          "data": {
            "text/plain": [
              "(25000,)"
            ]
          },
          "metadata": {
            "tags": []
          },
          "execution_count": 4
        }
      ]
    },
    {
      "metadata": {
        "id": "uITRUPVQ9mBW",
        "colab_type": "code",
        "colab": {
          "base_uri": "https://localhost:8080/",
          "height": 34
        },
        "outputId": "829fcb12-8f60-4353-ce39-44bdcc77a191"
      },
      "cell_type": "code",
      "source": [
        "#labels of data\n",
        "train_labels"
      ],
      "execution_count": 5,
      "outputs": [
        {
          "output_type": "execute_result",
          "data": {
            "text/plain": [
              "array([1, 0, 0, ..., 0, 1, 0])"
            ]
          },
          "metadata": {
            "tags": []
          },
          "execution_count": 5
        }
      ]
    },
    {
      "metadata": {
        "id": "a-ZhnEeH9xUJ",
        "colab_type": "text"
      },
      "cell_type": "markdown",
      "source": [
        "**This is binary classification problem**"
      ]
    },
    {
      "metadata": {
        "id": "ZqHmwqzJ9wEi",
        "colab_type": "code",
        "colab": {}
      },
      "cell_type": "code",
      "source": [
        "#encoding the integer sequences into a binary matrix\n",
        "def vectorize_sequences(sequences,dimension=10000):\n",
        "  results = np.zeros((len(sequences),dimension))\n",
        "  for i,sequence in enumerate(sequences):\n",
        "    results[i,sequence] = 1\n",
        "  return results\n",
        "\n",
        "x_train = vectorize_sequences(train_data)\n",
        "x_test = vectorize_sequences(test_data)"
      ],
      "execution_count": 0,
      "outputs": []
    },
    {
      "metadata": {
        "id": "HqGGJzDL9trZ",
        "colab_type": "code",
        "colab": {
          "base_uri": "https://localhost:8080/",
          "height": 34
        },
        "outputId": "98a4c90b-b5c4-4e15-ff0f-c59517dfbf07"
      },
      "cell_type": "code",
      "source": [
        "#training data\n",
        "x_train[0]\n"
      ],
      "execution_count": 7,
      "outputs": [
        {
          "output_type": "execute_result",
          "data": {
            "text/plain": [
              "array([0., 1., 1., ..., 0., 0., 0.])"
            ]
          },
          "metadata": {
            "tags": []
          },
          "execution_count": 7
        }
      ]
    },
    {
      "metadata": {
        "id": "27BLoOhK_3xV",
        "colab_type": "code",
        "colab": {}
      },
      "cell_type": "code",
      "source": [
        "#vectorize your labels \n",
        "y_train = np.asarray(train_labels).astype('float32')\n",
        "y_test = np.asarray(test_labels).astype('float32')"
      ],
      "execution_count": 0,
      "outputs": []
    },
    {
      "metadata": {
        "id": "yyIAr8zTAZ89",
        "colab_type": "code",
        "colab": {}
      },
      "cell_type": "code",
      "source": [
        "#model architecture\n",
        "model = Sequential()\n",
        "model.add(Dense(16,activation='relu',input_shape=(10000,)))\n",
        "model.add(Dense(16,activation='relu'))\n",
        "model.add(Dense(1,activation='sigmoid'))"
      ],
      "execution_count": 0,
      "outputs": []
    },
    {
      "metadata": {
        "id": "xZ5azEaqBscJ",
        "colab_type": "code",
        "colab": {}
      },
      "cell_type": "code",
      "source": [
        "#compiling the model\n",
        "model.compile(optimizer='rmsprop',\n",
        "             loss='binary_crossentropy',\n",
        "             metrics=['acc'])"
      ],
      "execution_count": 0,
      "outputs": []
    },
    {
      "metadata": {
        "id": "crdEGW7xCnLK",
        "colab_type": "code",
        "colab": {}
      },
      "cell_type": "code",
      "source": [
        "#setting the data for validation\n",
        "#features\n",
        "x_val = x_train[:10000]\n",
        "partial_x_train = x_train[10000:]"
      ],
      "execution_count": 0,
      "outputs": []
    },
    {
      "metadata": {
        "id": "IxWgxJunDId-",
        "colab_type": "code",
        "colab": {}
      },
      "cell_type": "code",
      "source": [
        "#labels\n",
        "y_val = y_train[:10000]\n",
        "partial_y_train = y_train[10000:]"
      ],
      "execution_count": 0,
      "outputs": []
    },
    {
      "metadata": {
        "id": "PKdkelcqDdQi",
        "colab_type": "code",
        "colab": {
          "base_uri": "https://localhost:8080/",
          "height": 734
        },
        "outputId": "323cccb4-39ae-4edd-fa53-7ab966a6931e"
      },
      "cell_type": "code",
      "source": [
        "#fit the model\n",
        "history = model.fit(partial_x_train,\n",
        "                   partial_y_train,\n",
        "                   epochs=20,\n",
        "                   batch_size=512,\n",
        "                   validation_data=(x_val,y_val))"
      ],
      "execution_count": 13,
      "outputs": [
        {
          "output_type": "stream",
          "text": [
            "Train on 15000 samples, validate on 10000 samples\n",
            "Epoch 1/20\n",
            "15000/15000 [==============================] - 3s 191us/step - loss: 0.5084 - acc: 0.7813 - val_loss: 0.3797 - val_acc: 0.8684\n",
            "Epoch 2/20\n",
            "15000/15000 [==============================] - 1s 100us/step - loss: 0.3004 - acc: 0.9047 - val_loss: 0.3004 - val_acc: 0.8897\n",
            "Epoch 3/20\n",
            "15000/15000 [==============================] - 1s 99us/step - loss: 0.2179 - acc: 0.9285 - val_loss: 0.3085 - val_acc: 0.8711\n",
            "Epoch 4/20\n",
            "15000/15000 [==============================] - 1s 98us/step - loss: 0.1750 - acc: 0.9437 - val_loss: 0.2840 - val_acc: 0.8832\n",
            "Epoch 5/20\n",
            "15000/15000 [==============================] - 1s 99us/step - loss: 0.1427 - acc: 0.9543 - val_loss: 0.2841 - val_acc: 0.8872\n",
            "Epoch 6/20\n",
            "15000/15000 [==============================] - 1s 100us/step - loss: 0.1150 - acc: 0.9650 - val_loss: 0.3166 - val_acc: 0.8772\n",
            "Epoch 7/20\n",
            "15000/15000 [==============================] - 2s 102us/step - loss: 0.0980 - acc: 0.9705 - val_loss: 0.3127 - val_acc: 0.8846\n",
            "Epoch 8/20\n",
            "15000/15000 [==============================] - 1s 99us/step - loss: 0.0807 - acc: 0.9763 - val_loss: 0.3859 - val_acc: 0.8649\n",
            "Epoch 9/20\n",
            "15000/15000 [==============================] - 1s 98us/step - loss: 0.0661 - acc: 0.9821 - val_loss: 0.3635 - val_acc: 0.8782\n",
            "Epoch 10/20\n",
            "15000/15000 [==============================] - 1s 99us/step - loss: 0.0561 - acc: 0.9853 - val_loss: 0.3843 - val_acc: 0.8792\n",
            "Epoch 11/20\n",
            "15000/15000 [==============================] - 1s 98us/step - loss: 0.0439 - acc: 0.9893 - val_loss: 0.4153 - val_acc: 0.8779\n",
            "Epoch 12/20\n",
            "15000/15000 [==============================] - 1s 99us/step - loss: 0.0381 - acc: 0.9921 - val_loss: 0.4525 - val_acc: 0.8690\n",
            "Epoch 13/20\n",
            "15000/15000 [==============================] - 1s 99us/step - loss: 0.0300 - acc: 0.9928 - val_loss: 0.4698 - val_acc: 0.8729\n",
            "Epoch 14/20\n",
            "15000/15000 [==============================] - 1s 99us/step - loss: 0.0247 - acc: 0.9945 - val_loss: 0.5023 - val_acc: 0.8726\n",
            "Epoch 15/20\n",
            "15000/15000 [==============================] - 1s 99us/step - loss: 0.0175 - acc: 0.9979 - val_loss: 0.5342 - val_acc: 0.8692\n",
            "Epoch 16/20\n",
            "15000/15000 [==============================] - 1s 100us/step - loss: 0.0149 - acc: 0.9983 - val_loss: 0.5710 - val_acc: 0.8699\n",
            "Epoch 17/20\n",
            "15000/15000 [==============================] - 1s 99us/step - loss: 0.0151 - acc: 0.9971 - val_loss: 0.6024 - val_acc: 0.8697\n",
            "Epoch 18/20\n",
            "15000/15000 [==============================] - 1s 100us/step - loss: 0.0075 - acc: 0.9996 - val_loss: 0.6822 - val_acc: 0.8632\n",
            "Epoch 19/20\n",
            "15000/15000 [==============================] - 1s 99us/step - loss: 0.0121 - acc: 0.9971 - val_loss: 0.6770 - val_acc: 0.8651\n",
            "Epoch 20/20\n",
            "15000/15000 [==============================] - 2s 101us/step - loss: 0.0041 - acc: 0.9999 - val_loss: 0.6900 - val_acc: 0.8657\n"
          ],
          "name": "stdout"
        }
      ]
    },
    {
      "metadata": {
        "id": "oR73J3rhD8oH",
        "colab_type": "code",
        "colab": {
          "base_uri": "https://localhost:8080/",
          "height": 34
        },
        "outputId": "099efab4-2915-46c4-cc3a-e7b17e12562a"
      },
      "cell_type": "code",
      "source": [
        "#looking at the history\n",
        "history_dict = history.history\n",
        "history_dict.keys()"
      ],
      "execution_count": 14,
      "outputs": [
        {
          "output_type": "execute_result",
          "data": {
            "text/plain": [
              "dict_keys(['val_loss', 'val_acc', 'loss', 'acc'])"
            ]
          },
          "metadata": {
            "tags": []
          },
          "execution_count": 14
        }
      ]
    },
    {
      "metadata": {
        "id": "JPoB5dhhEhnm",
        "colab_type": "code",
        "colab": {
          "base_uri": "https://localhost:8080/",
          "height": 380
        },
        "outputId": "fdf19366-d17b-4654-8056-4a9b6e436f5a"
      },
      "cell_type": "code",
      "source": [
        "#Ploting the training and validation loss\n",
        "plt.style.use('ggplot')\n",
        "loss_values = history_dict['loss']\n",
        "val_loss_values = history_dict['val_loss']\n",
        "acc = history_dict['acc']\n",
        "epochs = range(1,len(acc)+1)\n",
        "\n",
        "plt.plot(epochs,loss_values,'bo',label='Training loss')\n",
        "plt.plot(epochs,val_loss_values,'b',label='Validation loss')\n",
        "plt.title('Training and validation loss')\n",
        "plt.xlabel('Epochs')\n",
        "plt.ylabel('Loss')\n",
        "plt.legend()\n",
        "plt.show()"
      ],
      "execution_count": 15,
      "outputs": [
        {
          "output_type": "display_data",
          "data": {
            "image/png": "[encoded data removed]",
            "text/plain": [
              "<matplotlib.figure.Figure at 0x7f6919686cf8>"
            ]
          },
          "metadata": {
            "tags": []
          }
        }
      ]
    },
    {
      "metadata": {
        "id": "qX-BiCdBFn2o",
        "colab_type": "code",
        "colab": {
          "base_uri": "https://localhost:8080/",
          "height": 380
        },
        "outputId": "df5b27d1-3db3-4c93-bb73-06d456ca635b"
      },
      "cell_type": "code",
      "source": [
        "#plotting the training and validation accuracies\n",
        "acc = history_dict['acc']\n",
        "val_acc = history_dict['val_acc']\n",
        "\n",
        "plt.plot(epochs,acc,'bo',label='Trainin accuracy')\n",
        "plt.plot(epochs,val_acc,'b',label='Validation accuracy')\n",
        "plt.title('Trainin and validation accuracies')\n",
        "plt.xlabel('Epochs')\n",
        "plt.ylabel('Accuracies')\n",
        "plt.legend()\n",
        "plt.show()"
      ],
      "execution_count": 16,
      "outputs": [
        {
          "output_type": "display_data",
          "data": {
            "image/png": "[encoded data removed]",
            "text/plain": [
              "<matplotlib.figure.Figure at 0x7f6919330240>"
            ]
          },
          "metadata": {
            "tags": []
          }
        }
      ]
    },
    {
      "metadata": {
        "id": "n0TVMX5uHcpJ",
        "colab_type": "code",
        "colab": {
          "base_uri": "https://localhost:8080/",
          "height": 51
        },
        "outputId": "ecca4343-c919-482c-eefb-e0a30c0edd3f"
      },
      "cell_type": "code",
      "source": [
        "#evaluating the model\n",
        "result = model.evaluate(x_test,y_test)\n",
        "print(\"the approach achieves:\",str(result[1]*100)+\"% percent\")"
      ],
      "execution_count": 22,
      "outputs": [
        {
          "output_type": "stream",
          "text": [
            "25000/25000 [==============================] - 3s 137us/step\n",
            "the approach achieves: 85.06% percent\n"
          ],
          "name": "stdout"
        }
      ]
    },
    {
      "metadata": {
        "id": "bOundYyqkfFw",
        "colab_type": "text"
      },
      "cell_type": "markdown",
      "source": [
        "**summary:**\n",
        "*As we can see the model done greatly in training set with 99% accuracy and with prominent loss showing great hope , but there is no prominent decrease in the loss and increase in accuracy in validation set. This is where the model can get trickier with overfitting the dataset to the training model ,after evaluating the model the model accuracy shown of 85.06%acc. As we seen in the plot validation be low with 4epoch lets try that! *"
      ]
    },
    {
      "metadata": {
        "id": "zkSPPgnekeyM",
        "colab_type": "code",
        "colab": {}
      },
      "cell_type": "code",
      "source": [
        ""
      ],
      "execution_count": 0,
      "outputs": []
    },
    {
      "metadata": {
        "id": "esnn5N0_lYnv",
        "colab_type": "text"
      },
      "cell_type": "markdown",
      "source": [
        "# Retraining a model from scratch"
      ]
    },
    {
      "metadata": {
        "id": "ZP_9RUBtia-W",
        "colab_type": "code",
        "colab": {
          "base_uri": "https://localhost:8080/",
          "height": 190
        },
        "outputId": "7e2d2a6f-fdd2-4ca9-b030-abce2005c47e"
      },
      "cell_type": "code",
      "source": [
        "#building a neural network\n",
        "model2 = Sequential()\n",
        "model2.add(Dense(16,activation='relu',input_shape=(10000,)))\n",
        "model2.add(Dense(16,activation='relu'))\n",
        "model2.add(Dense(1,activation='sigmoid'))\n",
        "#compiling the model\n",
        "model2.compile(optimizer='rmsprop',\n",
        "              loss='binary_crossentropy',\n",
        "              metrics=['accuracy'])\n",
        "#fitting the data to the model\n",
        "model2.fit(x_train,y_train,epochs=4,batch_size=512)\n"
      ],
      "execution_count": 27,
      "outputs": [
        {
          "output_type": "stream",
          "text": [
            "Epoch 1/4\n",
            "25000/25000 [==============================] - 2s 74us/step - loss: 0.4584 - acc: 0.8133\n",
            "Epoch 2/4\n",
            "25000/25000 [==============================] - 2s 66us/step - loss: 0.2630 - acc: 0.9095\n",
            "Epoch 3/4\n",
            "25000/25000 [==============================] - 2s 67us/step - loss: 0.2005 - acc: 0.9282\n",
            "Epoch 4/4\n",
            "25000/25000 [==============================] - 2s 65us/step - loss: 0.1685 - acc: 0.9388\n"
          ],
          "name": "stdout"
        },
        {
          "output_type": "execute_result",
          "data": {
            "text/plain": [
              "<keras.callbacks.History at 0x7f69173c12e8>"
            ]
          },
          "metadata": {
            "tags": []
          },
          "execution_count": 27
        }
      ]
    },
    {
      "metadata": {
        "id": "xIxN8TztmbTG",
        "colab_type": "code",
        "colab": {
          "base_uri": "https://localhost:8080/",
          "height": 34
        },
        "outputId": "c92e851e-2828-4563-fc9e-628d5574ca22"
      },
      "cell_type": "code",
      "source": [
        "#evaluating the model\n",
        "results = model2.evaluate(x_test,y_test)"
      ],
      "execution_count": 28,
      "outputs": [
        {
          "output_type": "stream",
          "text": [
            "25000/25000 [==============================] - 4s 141us/step\n"
          ],
          "name": "stdout"
        }
      ]
    },
    {
      "metadata": {
        "id": "ktjVYnlrmshj",
        "colab_type": "code",
        "colab": {
          "base_uri": "https://localhost:8080/",
          "height": 34
        },
        "outputId": "86f3f8c7-7ccb-4ee4-c5ea-15c723e42302"
      },
      "cell_type": "code",
      "source": [
        "#results are\n",
        "print(\"model2 approaches the accuracy of :\",results[1])"
      ],
      "execution_count": 29,
      "outputs": [
        {
          "output_type": "stream",
          "text": [
            "model2 approaches the accuracy of : 0.88256\n"
          ],
          "name": "stdout"
        }
      ]
    },
    {
      "metadata": {
        "id": "nhTsMO4io9Pv",
        "colab_type": "text"
      },
      "cell_type": "markdown",
      "source": [
        "**summary:** *The more we tweak the parameters the result also changes but there are number of parameter to tweak and we cannot all at once so to experiment with this model *"
      ]
    },
    {
      "metadata": {
        "id": "b9oN4qbXm4D6",
        "colab_type": "code",
        "colab": {
          "base_uri": "https://localhost:8080/",
          "height": 836
        },
        "outputId": "990a7b88-3857-4cdd-adbc-5b9b153ee6df"
      },
      "cell_type": "code",
      "source": [
        "#adding more layers to the network\n",
        "model3 = Sequential()\n",
        "model3.add(Dense(32,activation='relu',input_shape=(10000,)))\n",
        "model3.add(Dense(32,activation='relu'))\n",
        "model3.add(Dense(32,activation='relu'))\n",
        "model3.add(Dense(1,activation='sigmoid'))\n",
        "\n",
        "#compiling the model\n",
        "model3.compile(optimizer='rmsprop',\n",
        "              loss='binary_crossentropy',\n",
        "              metrics=['accuracy'])\n",
        "#fitting the data\n",
        "model3.fit(x_train,y_train,epochs=23,batch_size=123)\n"
      ],
      "execution_count": 41,
      "outputs": [
        {
          "output_type": "stream",
          "text": [
            "Epoch 1/23\n",
            "25000/25000 [==============================] - 3s 123us/step - loss: 0.3440 - acc: 0.8550\n",
            "Epoch 2/23\n",
            "25000/25000 [==============================] - 3s 105us/step - loss: 0.2038 - acc: 0.9217\n",
            "Epoch 3/23\n",
            "25000/25000 [==============================] - 3s 106us/step - loss: 0.1562 - acc: 0.9424\n",
            "Epoch 4/23\n",
            "25000/25000 [==============================] - 3s 105us/step - loss: 0.1136 - acc: 0.9592\n",
            "Epoch 5/23\n",
            "25000/25000 [==============================] - 2s 99us/step - loss: 0.0785 - acc: 0.9733\n",
            "Epoch 6/23\n",
            "25000/25000 [==============================] - 2s 100us/step - loss: 0.0510 - acc: 0.9836\n",
            "Epoch 7/23\n",
            "25000/25000 [==============================] - 2s 99us/step - loss: 0.0309 - acc: 0.9902\n",
            "Epoch 8/23\n",
            "25000/25000 [==============================] - 2s 98us/step - loss: 0.0199 - acc: 0.9947\n",
            "Epoch 9/23\n",
            "25000/25000 [==============================] - 2s 98us/step - loss: 0.0117 - acc: 0.9967\n",
            "Epoch 10/23\n",
            "25000/25000 [==============================] - 2s 97us/step - loss: 0.0119 - acc: 0.9971\n",
            "Epoch 11/23\n",
            "25000/25000 [==============================] - 2s 97us/step - loss: 0.0051 - acc: 0.9988\n",
            "Epoch 12/23\n",
            "25000/25000 [==============================] - 2s 98us/step - loss: 0.0038 - acc: 0.9992\n",
            "Epoch 13/23\n",
            "25000/25000 [==============================] - 2s 97us/step - loss: 0.0024 - acc: 0.9995\n",
            "Epoch 14/23\n",
            "25000/25000 [==============================] - 2s 99us/step - loss: 0.0024 - acc: 0.9996\n",
            "Epoch 15/23\n",
            "25000/25000 [==============================] - 2s 98us/step - loss: 0.0016 - acc: 0.9997\n",
            "Epoch 16/23\n",
            "25000/25000 [==============================] - 2s 97us/step - loss: 0.0014 - acc: 0.9997\n",
            "Epoch 17/23\n",
            "25000/25000 [==============================] - 2s 98us/step - loss: 0.0015 - acc: 0.9997\n",
            "Epoch 18/23\n",
            "25000/25000 [==============================] - 3s 102us/step - loss: 0.0043 - acc: 0.9994\n",
            "Epoch 19/23\n",
            "25000/25000 [==============================] - 3s 109us/step - loss: 0.0015 - acc: 0.9998\n",
            "Epoch 20/23\n",
            "25000/25000 [==============================] - 3s 106us/step - loss: 0.0011 - acc: 0.9997\n",
            "Epoch 21/23\n",
            "25000/25000 [==============================] - 3s 108us/step - loss: 0.0052 - acc: 0.9992\n",
            "Epoch 22/23\n",
            "25000/25000 [==============================] - 3s 106us/step - loss: 6.6564e-04 - acc: 0.9999\n",
            "Epoch 23/23\n",
            "25000/25000 [==============================] - 3s 105us/step - loss: 0.0023 - acc: 0.9996\n"
          ],
          "name": "stdout"
        },
        {
          "output_type": "execute_result",
          "data": {
            "text/plain": [
              "<keras.callbacks.History at 0x7f68f0fba0b8>"
            ]
          },
          "metadata": {
            "tags": []
          },
          "execution_count": 41
        }
      ]
    },
    {
      "metadata": {
        "id": "mzdgZkcaq-ZF",
        "colab_type": "code",
        "colab": {
          "base_uri": "https://localhost:8080/",
          "height": 34
        },
        "outputId": "ced78973-9731-4171-c0f2-84aade1ddd85"
      },
      "cell_type": "code",
      "source": [
        "#evaluating the model\n",
        "result = model3.evaluate(x_test,y_test)"
      ],
      "execution_count": 42,
      "outputs": [
        {
          "output_type": "stream",
          "text": [
            "25000/25000 [==============================] - 4s 142us/step\n"
          ],
          "name": "stdout"
        }
      ]
    },
    {
      "metadata": {
        "id": "YxpPqPySrXuq",
        "colab_type": "code",
        "colab": {
          "base_uri": "https://localhost:8080/",
          "height": 34
        },
        "outputId": "a3ed4d74-0980-45c4-fc5b-499d93918c36"
      },
      "cell_type": "code",
      "source": [
        "result[1]"
      ],
      "execution_count": 43,
      "outputs": [
        {
          "output_type": "execute_result",
          "data": {
            "text/plain": [
              "0.85628"
            ]
          },
          "metadata": {
            "tags": []
          },
          "execution_count": 43
        }
      ]
    },
    {
      "metadata": {
        "id": "Cf-9-Ta5rZ0e",
        "colab_type": "code",
        "colab": {}
      },
      "cell_type": "code",
      "source": [
        ""
      ],
      "execution_count": 0,
      "outputs": []
    }
  ]
}